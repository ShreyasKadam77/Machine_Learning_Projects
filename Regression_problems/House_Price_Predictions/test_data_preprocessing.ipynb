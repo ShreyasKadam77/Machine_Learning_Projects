{
 "cells": [
  {
   "cell_type": "code",
   "execution_count": 1,
   "id": "ef3c9d85",
   "metadata": {},
   "outputs": [],
   "source": [
    "import pandas as pd\n",
    "import numpy as np\n",
    "import matplotlib.pyplot as plt\n",
    "import seaborn as sns\n",
    "from sklearn.preprocessing import LabelEncoder"
   ]
  },
  {
   "cell_type": "code",
   "execution_count": 2,
   "id": "56373066",
   "metadata": {},
   "outputs": [],
   "source": [
    "test_data = pd.read_csv('D:/Marvellous/ML/case_studies/Supervised/Regression_problems/House_Price_Predictions/data/test.csv')\n",
    "test_data.head()"
   ]
  },
  {
   "cell_type": "code",
   "execution_count": 3,
   "id": "dd43bd83",
   "metadata": {},
   "outputs": [],
   "source": [
    "test_data.info()"
   ]
  },
  {
   "cell_type": "markdown",
   "id": "1a90c484",
   "metadata": {},
   "source": [
    "### We have to do same preprocessing on test data as training data."
   ]
  },
  {
   "cell_type": "code",
   "execution_count": 4,
   "id": "e9a5c0a4",
   "metadata": {},
   "outputs": [],
   "source": [
    "# make a copy\n",
    "# drop 3 columns\n",
    "# check for nan values\n",
    "# check for numeric features\n",
    "# fill nan numeric values with median\n",
    "# check for categorical features\n",
    "# fill missing values\n",
    "# label encode cat features"
   ]
  },
  {
   "cell_type": "code",
   "execution_count": 5,
   "id": "fb03212e",
   "metadata": {},
   "outputs": [],
   "source": [
    "temp_testdata = test_data.copy()"
   ]
  },
  {
   "cell_type": "code",
   "execution_count": 6,
   "id": "12352548",
   "metadata": {},
   "outputs": [],
   "source": [
    "temp_testdata.drop(columns=['TotalBsmtSF', 'GarageArea', 'TotRmsAbvGrd', 'Id'], axis=1, inplace=True)"
   ]
  },
  {
   "cell_type": "code",
   "execution_count": 7,
   "id": "ce712a64",
   "metadata": {},
   "outputs": [],
   "source": [
    "# Get features having null values\n",
    "\n",
    "nan_features = []\n",
    "for feature in temp_testdata:\n",
    "    if temp_testdata[feature].isnull().sum() > 0:\n",
    "        nan_features.append(feature)\n",
    "\n",
    "# feature name and number of null values.\n",
    "\n",
    "for col in nan_features:\n",
    "    print(f' {col} : {temp_testdata[col].isnull().sum()} null values.')"
   ]
  },
  {
   "cell_type": "code",
   "execution_count": 8,
   "id": "5167fba2",
   "metadata": {},
   "outputs": [],
   "source": [
    "numeric_features = []\n",
    "for label, content in temp_testdata.items():\n",
    "    if pd.api.types.is_numeric_dtype(content):\n",
    "        numeric_features.append(label)\n",
    "        \n",
    "temp_testdata[numeric_features].head()"
   ]
  },
  {
   "cell_type": "code",
   "execution_count": 9,
   "id": "43a06cd3",
   "metadata": {},
   "outputs": [],
   "source": [
    "nan_numeric_features = [feature for feature in numeric_features if feature in nan_features]"
   ]
  },
  {
   "cell_type": "code",
   "execution_count": 10,
   "id": "39755d83",
   "metadata": {},
   "outputs": [],
   "source": [
    "temp_testdata[nan_numeric_features].isna().sum()"
   ]
  },
  {
   "cell_type": "code",
   "execution_count": 11,
   "id": "c9a3a631",
   "metadata": {},
   "outputs": [],
   "source": [
    "# function to replace missing values with median\n",
    "\n",
    "def fill_missing_values(dataset, nan_features):\n",
    "    data = dataset.copy()\n",
    "    for feature in nan_features:\n",
    "        data[feature] = data[feature].fillna(data[feature].median())\n",
    "        return data\n",
    "\n",
    "filled_dataset = fill_missing_values(temp_testdata, nan_numeric_features)"
   ]
  },
  {
   "cell_type": "code",
   "execution_count": 12,
   "id": "a6781fa3",
   "metadata": {},
   "outputs": [],
   "source": [
    "filled_dataset.head()"
   ]
  },
  {
   "cell_type": "code",
   "execution_count": 13,
   "id": "217f9ea2",
   "metadata": {},
   "outputs": [],
   "source": [
    "cat_features = []\n",
    "for label, content in filled_dataset.items():\n",
    "    if pd.api.types.is_string_dtype(content):\n",
    "        cat_features.append(label)"
   ]
  },
  {
   "cell_type": "code",
   "execution_count": 14,
   "id": "e8a50ad9",
   "metadata": {},
   "outputs": [],
   "source": [
    "filled_dataset[cat_features].head()"
   ]
  },
  {
   "cell_type": "code",
   "execution_count": 15,
   "id": "b3286ee3",
   "metadata": {},
   "outputs": [],
   "source": [
    "nan_categorical_features = [feature for feature in cat_features if feature in nan_features]\n",
    "nan_categorical_features"
   ]
  },
  {
   "cell_type": "code",
   "execution_count": 16,
   "id": "b5040516",
   "metadata": {},
   "outputs": [],
   "source": [
    "# function to replace missing values with word missing\n",
    "\n",
    "def fill_missing_values(dataset, nan_features):\n",
    "    data = dataset.copy()\n",
    "    data[nan_features] = data[nan_features].fillna('missing')\n",
    "    return data\n",
    "\n",
    "filled_dataset = fill_missing_values(temp_testdata, nan_categorical_features)"
   ]
  },
  {
   "cell_type": "code",
   "execution_count": 17,
   "id": "3aafa717",
   "metadata": {},
   "outputs": [],
   "source": [
    "filled_dataset.head()"
   ]
  },
  {
   "cell_type": "code",
   "execution_count": 18,
   "id": "bbbf4b4c",
   "metadata": {},
   "outputs": [],
   "source": [
    "len(cat_features)"
   ]
  },
  {
   "cell_type": "code",
   "execution_count": 19,
   "id": "905fe002",
   "metadata": {},
   "outputs": [],
   "source": [
    "\n",
    "encoded_dataset = filled_dataset.copy()\n",
    "\n",
    "le = LabelEncoder()\n",
    "for col in cat_features:\n",
    "    encoded_dataset[col] = le.fit_transform(encoded_dataset[col])"
   ]
  },
  {
   "cell_type": "code",
   "execution_count": 20,
   "id": "2ec6e472",
   "metadata": {},
   "outputs": [],
   "source": [
    "encoded_dataset.head()"
   ]
  },
  {
   "cell_type": "code",
   "execution_count": 21,
   "id": "ea888ff3",
   "metadata": {},
   "outputs": [],
   "source": [
    "encoded_dataset.to_csv('D:/Marvellous/ML/case_studies/Supervised/Regression_problems/House_Price_Predictions/data/processed_testing_data.csv', index= False)"
   ]
  }
 ],
 "metadata": {
  "kernelspec": {
   "display_name": "Python 3 (ipykernel)",
   "language": "python",
   "name": "python3"
  },
  "language_info": {
   "codemirror_mode": {
    "name": "ipython",
    "version": 3
   },
   "file_extension": ".py",
   "mimetype": "text/x-python",
   "name": "python",
   "nbconvert_exporter": "python",
   "pygments_lexer": "ipython3",
   "version": "3.9.0"
  }
 },
 "nbformat": 4,
 "nbformat_minor": 5
}
